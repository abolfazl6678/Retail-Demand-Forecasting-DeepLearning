{
  "nbformat": 4,
  "nbformat_minor": 0,
  "metadata": {
    "colab": {
      "provenance": []
    },
    "kernelspec": {
      "name": "python3",
      "display_name": "Python 3"
    },
    "language_info": {
      "name": "python"
    }
  },
  "cells": [
    {
      "cell_type": "markdown",
      "source": [
        "# 1. Import required libraries and data inspection\n",
        "*   Import all requierd libraries\n",
        "*   Import raw data\n",
        "*   Initial inspection of the data for duplicated rows, missing and data types"
      ],
      "metadata": {
        "id": "xHQcKW-Uenjs"
      }
    },
    {
      "cell_type": "code",
      "source": [
        "import numpy as np\n",
        "import pandas as pd\n",
        "import datetime\n",
        "import matplotlib.pyplot as plt\n",
        "from google.colab import drive\n",
        "from sklearn.preprocessing import OneHotEncoder, StandardScaler\n",
        "# importing data and transfer it to pandas\n",
        "drive.mount('/content/drive')\n",
        "# update path to your CSV location\n",
        "file_path = '/content/drive/MyDrive/Colab Notebooks/data/raw/retail_store_inventory.csv'\n",
        "df = pd.read_csv(file_path)\n",
        "print(\"***********************************************************************\")\n",
        "print(\"Show first five rows of the data:\")\n",
        "print(\"                                 \")\n",
        "print(df.head())\n",
        "print(\"***********************************************************************\")\n",
        "# data inspection for missing / duplicated / data type inconsistency\n",
        "print(df.info())\n",
        "print(\"***********************************************************************\")\n",
        "print(df.describe(include='all'))\n",
        "print(\"***********************************************************************\")\n",
        "print(f\"number of missing values in each column:\")\n",
        "print(df.isnull().sum())\n",
        "print(\"***********************************************************************\")\n",
        "print(f\"number of duplicated rows: {df.duplicated().sum()}\")\n",
        "print(\"***********************************************************************\")"
      ],
      "metadata": {
        "colab": {
          "base_uri": "https://localhost:8080/"
        },
        "id": "3vlaXYdEgf8I",
        "outputId": "853c3130-7aff-42d3-b0a6-0ba3e49aba91"
      },
      "execution_count": 1,
      "outputs": [
        {
          "output_type": "stream",
          "name": "stdout",
          "text": [
            "Mounted at /content/drive\n",
            "***********************************************************************\n",
            "Show first five rows of the data:\n",
            "                                 \n",
            "       Date Store ID Product ID     Category Region  Inventory Level  \\\n",
            "0  1/1/2022     S001      P0001    Groceries  North              231   \n",
            "1  1/1/2022     S001      P0002         Toys  South              204   \n",
            "2  1/1/2022     S001      P0003         Toys   West              102   \n",
            "3  1/1/2022     S001      P0004         Toys  North              469   \n",
            "4  1/1/2022     S001      P0005  Electronics   East              166   \n",
            "\n",
            "   Units Sold  Units Ordered  Demand Forecast  Price  Discount  \\\n",
            "0         127             55           135.47  33.50        20   \n",
            "1         150             66           144.04  63.01        20   \n",
            "2          65             51            74.02  27.99        10   \n",
            "3          61            164            62.18  32.72        10   \n",
            "4          14            135             9.26  73.64         0   \n",
            "\n",
            "  Weather Condition  Holiday/Promotion  Competitor Pricing Seasonality  \n",
            "0             Rainy                  0               29.69      Autumn  \n",
            "1             Sunny                  0               66.16      Autumn  \n",
            "2             Sunny                  1               31.32      Summer  \n",
            "3            Cloudy                  1               34.74      Autumn  \n",
            "4             Sunny                  0               68.95      Summer  \n",
            "***********************************************************************\n",
            "<class 'pandas.core.frame.DataFrame'>\n",
            "RangeIndex: 73100 entries, 0 to 73099\n",
            "Data columns (total 15 columns):\n",
            " #   Column              Non-Null Count  Dtype  \n",
            "---  ------              --------------  -----  \n",
            " 0   Date                73100 non-null  object \n",
            " 1   Store ID            73100 non-null  object \n",
            " 2   Product ID          73100 non-null  object \n",
            " 3   Category            73100 non-null  object \n",
            " 4   Region              73100 non-null  object \n",
            " 5   Inventory Level     73100 non-null  int64  \n",
            " 6   Units Sold          73100 non-null  int64  \n",
            " 7   Units Ordered       73100 non-null  int64  \n",
            " 8   Demand Forecast     73100 non-null  float64\n",
            " 9   Price               73100 non-null  float64\n",
            " 10  Discount            73100 non-null  int64  \n",
            " 11  Weather Condition   73100 non-null  object \n",
            " 12  Holiday/Promotion   73100 non-null  int64  \n",
            " 13  Competitor Pricing  73100 non-null  float64\n",
            " 14  Seasonality         73100 non-null  object \n",
            "dtypes: float64(3), int64(5), object(7)\n",
            "memory usage: 8.4+ MB\n",
            "None\n",
            "***********************************************************************\n",
            "            Date Store ID Product ID   Category Region  Inventory Level  \\\n",
            "count      73100    73100      73100      73100  73100     73100.000000   \n",
            "unique       731        5         20          5      4              NaN   \n",
            "top     1/1/2024     S001      P0001  Furniture   East              NaN   \n",
            "freq         100    14620       3655      14699  18349              NaN   \n",
            "mean         NaN      NaN        NaN        NaN    NaN       274.469877   \n",
            "std          NaN      NaN        NaN        NaN    NaN       129.949514   \n",
            "min          NaN      NaN        NaN        NaN    NaN        50.000000   \n",
            "25%          NaN      NaN        NaN        NaN    NaN       162.000000   \n",
            "50%          NaN      NaN        NaN        NaN    NaN       273.000000   \n",
            "75%          NaN      NaN        NaN        NaN    NaN       387.000000   \n",
            "max          NaN      NaN        NaN        NaN    NaN       500.000000   \n",
            "\n",
            "          Units Sold  Units Ordered  Demand Forecast         Price  \\\n",
            "count   73100.000000   73100.000000     73100.000000  73100.000000   \n",
            "unique           NaN            NaN              NaN           NaN   \n",
            "top              NaN            NaN              NaN           NaN   \n",
            "freq             NaN            NaN              NaN           NaN   \n",
            "mean      136.464870     110.004473       141.494720     55.135108   \n",
            "std       108.919406      52.277448       109.254076     26.021945   \n",
            "min         0.000000      20.000000        -9.990000     10.000000   \n",
            "25%        49.000000      65.000000        53.670000     32.650000   \n",
            "50%       107.000000     110.000000       113.015000     55.050000   \n",
            "75%       203.000000     155.000000       208.052500     77.860000   \n",
            "max       499.000000     200.000000       518.550000    100.000000   \n",
            "\n",
            "            Discount Weather Condition  Holiday/Promotion  Competitor Pricing  \\\n",
            "count   73100.000000             73100       73100.000000        73100.000000   \n",
            "unique           NaN                 4                NaN                 NaN   \n",
            "top              NaN             Sunny                NaN                 NaN   \n",
            "freq             NaN             18290                NaN                 NaN   \n",
            "mean       10.009508               NaN           0.497305           55.146077   \n",
            "std         7.083746               NaN           0.499996           26.191408   \n",
            "min         0.000000               NaN           0.000000            5.030000   \n",
            "25%         5.000000               NaN           0.000000           32.680000   \n",
            "50%        10.000000               NaN           0.000000           55.010000   \n",
            "75%        15.000000               NaN           1.000000           77.820000   \n",
            "max        20.000000               NaN           1.000000          104.940000   \n",
            "\n",
            "       Seasonality  \n",
            "count        73100  \n",
            "unique           4  \n",
            "top         Spring  \n",
            "freq         18317  \n",
            "mean           NaN  \n",
            "std            NaN  \n",
            "min            NaN  \n",
            "25%            NaN  \n",
            "50%            NaN  \n",
            "75%            NaN  \n",
            "max            NaN  \n",
            "***********************************************************************\n",
            "number of missing values in each column:\n",
            "Date                  0\n",
            "Store ID              0\n",
            "Product ID            0\n",
            "Category              0\n",
            "Region                0\n",
            "Inventory Level       0\n",
            "Units Sold            0\n",
            "Units Ordered         0\n",
            "Demand Forecast       0\n",
            "Price                 0\n",
            "Discount              0\n",
            "Weather Condition     0\n",
            "Holiday/Promotion     0\n",
            "Competitor Pricing    0\n",
            "Seasonality           0\n",
            "dtype: int64\n",
            "***********************************************************************\n",
            "number of duplicated rows: 0\n",
            "***********************************************************************\n"
          ]
        }
      ]
    },
    {
      "cell_type": "markdown",
      "source": [
        "According to results of above cell, I conclude:\n",
        "\n",
        "\n",
        "\n",
        "*   No duplicated rows found in data\n",
        "*   Following columns have no missing values: 'Inventory Level', 'Units Sold', 'Units Ordered', 'Demand Forecast', 'Price', 'Discount'\n",
        "*   For other columns data type conversion need to be done first\n"
      ],
      "metadata": {
        "id": "h-M6W72Ruk_9"
      }
    },
    {
      "cell_type": "markdown",
      "source": [
        "# 2. Data type conversion for rest of columns"
      ],
      "metadata": {
        "id": "iWKJKQLe1zh7"
      }
    },
    {
      "cell_type": "code",
      "source": [
        "df['Date']=pd.to_datetime(df['Date'], errors='coerce')\n",
        "df['Store ID'] = df['Store ID'].astype(\"string\")\n",
        "df['Product ID'] = df['Product ID'].astype(\"string\")\n",
        "df['Category'] = df['Category'].astype(\"string\")\n",
        "df['Region'] = df['Region'].astype(\"string\")\n",
        "df['Weather Condition'] = df['Weather Condition'].astype(\"string\")\n",
        "df['Seasonality'] = df['Seasonality'].astype(\"string\")"
      ],
      "metadata": {
        "id": "tuq0dJcxsYsu"
      },
      "execution_count": 2,
      "outputs": []
    },
    {
      "cell_type": "markdown",
      "source": [
        "# 3. Data inspection after data type conversion"
      ],
      "metadata": {
        "id": "lkYmUpTdxYgd"
      }
    },
    {
      "cell_type": "code",
      "source": [
        "print(\"***********************************************************************\")\n",
        "# data inspection for missing / duplicated / data type inconsistency\n",
        "print(df.info())\n",
        "print(\"***********************************************************************\")\n",
        "print(df.describe(include='all'))\n",
        "print(\"***********************************************************************\")\n",
        "print(f\"number of missing values in each column:\")\n",
        "print(df.isnull().sum())\n",
        "print(\"***********************************************************************\")"
      ],
      "metadata": {
        "colab": {
          "base_uri": "https://localhost:8080/"
        },
        "id": "wLqqSlkPxZAk",
        "outputId": "69af3835-ee66-4337-8e01-ad66cb031903"
      },
      "execution_count": 3,
      "outputs": [
        {
          "output_type": "stream",
          "name": "stdout",
          "text": [
            "***********************************************************************\n",
            "<class 'pandas.core.frame.DataFrame'>\n",
            "RangeIndex: 73100 entries, 0 to 73099\n",
            "Data columns (total 15 columns):\n",
            " #   Column              Non-Null Count  Dtype         \n",
            "---  ------              --------------  -----         \n",
            " 0   Date                73100 non-null  datetime64[ns]\n",
            " 1   Store ID            73100 non-null  string        \n",
            " 2   Product ID          73100 non-null  string        \n",
            " 3   Category            73100 non-null  string        \n",
            " 4   Region              73100 non-null  string        \n",
            " 5   Inventory Level     73100 non-null  int64         \n",
            " 6   Units Sold          73100 non-null  int64         \n",
            " 7   Units Ordered       73100 non-null  int64         \n",
            " 8   Demand Forecast     73100 non-null  float64       \n",
            " 9   Price               73100 non-null  float64       \n",
            " 10  Discount            73100 non-null  int64         \n",
            " 11  Weather Condition   73100 non-null  string        \n",
            " 12  Holiday/Promotion   73100 non-null  int64         \n",
            " 13  Competitor Pricing  73100 non-null  float64       \n",
            " 14  Seasonality         73100 non-null  string        \n",
            "dtypes: datetime64[ns](1), float64(3), int64(5), string(6)\n",
            "memory usage: 8.4 MB\n",
            "None\n",
            "***********************************************************************\n",
            "                                 Date Store ID Product ID   Category Region  \\\n",
            "count                           73100    73100      73100      73100  73100   \n",
            "unique                            NaN        5         20          5      4   \n",
            "top                               NaN     S001      P0001  Furniture   East   \n",
            "freq                              NaN    14620       3655      14699  18349   \n",
            "mean    2022-12-31 23:59:59.999999744      NaN        NaN        NaN    NaN   \n",
            "min               2022-01-01 00:00:00      NaN        NaN        NaN    NaN   \n",
            "25%               2022-07-02 00:00:00      NaN        NaN        NaN    NaN   \n",
            "50%               2023-01-01 00:00:00      NaN        NaN        NaN    NaN   \n",
            "75%               2023-07-03 00:00:00      NaN        NaN        NaN    NaN   \n",
            "max               2024-01-01 00:00:00      NaN        NaN        NaN    NaN   \n",
            "std                               NaN      NaN        NaN        NaN    NaN   \n",
            "\n",
            "        Inventory Level    Units Sold  Units Ordered  Demand Forecast  \\\n",
            "count      73100.000000  73100.000000   73100.000000     73100.000000   \n",
            "unique              NaN           NaN            NaN              NaN   \n",
            "top                 NaN           NaN            NaN              NaN   \n",
            "freq                NaN           NaN            NaN              NaN   \n",
            "mean         274.469877    136.464870     110.004473       141.494720   \n",
            "min           50.000000      0.000000      20.000000        -9.990000   \n",
            "25%          162.000000     49.000000      65.000000        53.670000   \n",
            "50%          273.000000    107.000000     110.000000       113.015000   \n",
            "75%          387.000000    203.000000     155.000000       208.052500   \n",
            "max          500.000000    499.000000     200.000000       518.550000   \n",
            "std          129.949514    108.919406      52.277448       109.254076   \n",
            "\n",
            "               Price      Discount Weather Condition  Holiday/Promotion  \\\n",
            "count   73100.000000  73100.000000             73100       73100.000000   \n",
            "unique           NaN           NaN                 4                NaN   \n",
            "top              NaN           NaN             Sunny                NaN   \n",
            "freq             NaN           NaN             18290                NaN   \n",
            "mean       55.135108     10.009508               NaN           0.497305   \n",
            "min        10.000000      0.000000               NaN           0.000000   \n",
            "25%        32.650000      5.000000               NaN           0.000000   \n",
            "50%        55.050000     10.000000               NaN           0.000000   \n",
            "75%        77.860000     15.000000               NaN           1.000000   \n",
            "max       100.000000     20.000000               NaN           1.000000   \n",
            "std        26.021945      7.083746               NaN           0.499996   \n",
            "\n",
            "        Competitor Pricing Seasonality  \n",
            "count         73100.000000       73100  \n",
            "unique                 NaN           4  \n",
            "top                    NaN      Spring  \n",
            "freq                   NaN       18317  \n",
            "mean             55.146077         NaN  \n",
            "min               5.030000         NaN  \n",
            "25%              32.680000         NaN  \n",
            "50%              55.010000         NaN  \n",
            "75%              77.820000         NaN  \n",
            "max             104.940000         NaN  \n",
            "std              26.191408         NaN  \n",
            "***********************************************************************\n",
            "number of missing values in each column:\n",
            "Date                  0\n",
            "Store ID              0\n",
            "Product ID            0\n",
            "Category              0\n",
            "Region                0\n",
            "Inventory Level       0\n",
            "Units Sold            0\n",
            "Units Ordered         0\n",
            "Demand Forecast       0\n",
            "Price                 0\n",
            "Discount              0\n",
            "Weather Condition     0\n",
            "Holiday/Promotion     0\n",
            "Competitor Pricing    0\n",
            "Seasonality           0\n",
            "dtype: int64\n",
            "***********************************************************************\n"
          ]
        }
      ]
    },
    {
      "cell_type": "markdown",
      "source": [
        "**According to the above results, no missing found in the columns and all data types for each column are same.**"
      ],
      "metadata": {
        "id": "JAdY5Vkj7OJm"
      }
    },
    {
      "cell_type": "markdown",
      "source": [
        "# 4. Encode categorical variables using one-hot encoding."
      ],
      "metadata": {
        "id": "Kx3lD3bLOmRp"
      }
    },
    {
      "cell_type": "code",
      "source": [
        "# Apply one-hot encoding to categorical columns only\n",
        "onehot_encoder = OneHotEncoder()\n",
        "onehot_encoded = onehot_encoder.fit_transform(df[['Store ID', 'Product ID', 'Category', 'Region', 'Weather Condition', 'Seasonality']])\n",
        "\n",
        "# Create DataFrame with proper column names\n",
        "df_onehot = pd.DataFrame(onehot_encoded.toarray(),\n",
        "                        columns=onehot_encoder.get_feature_names_out(['Store ID', 'Product ID', 'Category', 'Region', 'Weather Condition', 'Seasonality']))\n",
        "\n",
        "# Drop original categorical columns and concatenate\n",
        "df = df.drop(['Store ID', 'Product ID', 'Category', 'Region', 'Weather Condition', 'Seasonality'], axis=1)\n",
        "df = pd.concat([df, df_onehot], axis=1)\n",
        "\n",
        "# convers date to cyclical day of week\n",
        "df['dayofweek'] = df['Date'].dt.dayofweek\n",
        "df['dayofweek_sin'] = np.sin(2 * np.pi * df['dayofweek']/7)\n",
        "df['dayofweek_cos'] = np.cos(2 * np.pi * df['dayofweek']/7)\n",
        "df = df.drop(['Date', 'dayofweek'], axis=1)\n"
      ],
      "metadata": {
        "id": "5675qCV2736n"
      },
      "execution_count": 4,
      "outputs": []
    },
    {
      "cell_type": "markdown",
      "source": [
        "## 5. Save cleaned data into a file"
      ],
      "metadata": {
        "id": "4EnjlVWjTVQW"
      }
    },
    {
      "cell_type": "code",
      "source": [
        "file_path2 = '/content/drive/MyDrive/Colab Notebooks/data/interim/cleaned_data.parquet'\n",
        "df.to_parquet(file_path2)"
      ],
      "metadata": {
        "id": "5Eso-S9FTeKM"
      },
      "execution_count": 5,
      "outputs": []
    }
  ]
}